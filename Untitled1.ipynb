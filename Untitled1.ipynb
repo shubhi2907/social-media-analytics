{
 "cells": [
  {
   "cell_type": "code",
   "execution_count": 1,
   "id": "205d00e1-2df8-4925-9142-7a2b368b567b",
   "metadata": {},
   "outputs": [
    {
     "name": "stdout",
     "output_type": "stream",
     "text": [
      "Collecting opencv-python\n",
      "  Using cached opencv_python-4.11.0.86-cp37-abi3-win_amd64.whl.metadata (20 kB)\n",
      "Requirement already satisfied: pillow in c:\\users\\gupta\\anaconda3\\lib\\site-packages (10.4.0)\n",
      "Requirement already satisfied: numpy in c:\\users\\gupta\\anaconda3\\lib\\site-packages (1.26.4)\n",
      "Using cached opencv_python-4.11.0.86-cp37-abi3-win_amd64.whl (39.5 MB)\n",
      "Installing collected packages: opencv-python\n",
      "Successfully installed opencv-python-4.11.0.86\n",
      "Note: you may need to restart the kernel to use updated packages.\n"
     ]
    }
   ],
   "source": [
    "pip install opencv-python pillow numpy"
   ]
  },
  {
   "cell_type": "code",
   "execution_count": 10,
   "id": "46f6700a-dcd1-4778-bd17-b91f304fa957",
   "metadata": {},
   "outputs": [],
   "source": [
    "import cv2\n",
    "import numpy as np\n",
    "from PIL import Image, ImageEnhance\n",
    "\n",
    "def ghibli_effect(image_path, output_path):\n",
    "    # Load image\n",
    "    img = cv2.imread(image_path)\n",
    "    img = cv2.cvtColor(img, cv2.COLOR_BGR2RGB)\n",
    "    \n",
    "    # Apply bilateral filter for soft edges\n",
    "    filtered = cv2.bilateralFilter(img, d=9, sigmaColor=75, sigmaSpace=75)\n",
    "    \n",
    "    # Convert to PIL for additional enhancements\n",
    "    pil_img = Image.fromarray(filtered)\n",
    "    \n",
    "    # Enhance color\n",
    "    enhancer = ImageEnhance.Color(pil_img)\n",
    "    pil_img = enhancer.enhance(1.5)\n",
    "    \n",
    "    # Enhance contrast\n",
    "    enhancer = ImageEnhance.Contrast(pil_img)\n",
    "    pil_img = enhancer.enhance(1.2)\n",
    "    \n",
    "    # Convert back to OpenCV format\n",
    "    final_img = np.array(pil_img)\n",
    "    final_img = cv2.cvtColor(final_img, cv2.COLOR_RGB2BGR)\n",
    "    \n",
    "    # Save output image\n",
    "    cv2.imwrite(output_path, final_img)\n",
    "    \n",
    "    print(f\"Ghibli effect applied. Saved as {output_path}\")\n",
    "\n"
   ]
  },
  {
   "cell_type": "code",
   "execution_count": null,
   "id": "a1ccfc10-4c08-4b2a-a926-c9f4ff109ae0",
   "metadata": {},
   "outputs": [],
   "source": []
  },
  {
   "cell_type": "code",
   "execution_count": null,
   "id": "bc132cdb-d9cb-40c4-9402-dcdd0ec4843f",
   "metadata": {},
   "outputs": [],
   "source": []
  },
  {
   "cell_type": "code",
   "execution_count": null,
   "id": "a6b2ff66-8ee3-4098-b75d-75b436fb8ee1",
   "metadata": {},
   "outputs": [],
   "source": []
  },
  {
   "cell_type": "code",
   "execution_count": null,
   "id": "d6caf249-2a34-409d-9c3d-32e27d5abcb6",
   "metadata": {},
   "outputs": [],
   "source": []
  }
 ],
 "metadata": {
  "kernelspec": {
   "display_name": "Python [conda env:base] *",
   "language": "python",
   "name": "conda-base-py"
  },
  "language_info": {
   "codemirror_mode": {
    "name": "ipython",
    "version": 3
   },
   "file_extension": ".py",
   "mimetype": "text/x-python",
   "name": "python",
   "nbconvert_exporter": "python",
   "pygments_lexer": "ipython3",
   "version": "3.12.7"
  }
 },
 "nbformat": 4,
 "nbformat_minor": 5
}
